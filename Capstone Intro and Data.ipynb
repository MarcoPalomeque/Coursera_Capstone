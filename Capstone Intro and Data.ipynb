{
 "cells": [
  {
   "cell_type": "markdown",
   "metadata": {},
   "source": [
    "# Capstone Project - Music Venues in Madrid\n",
    "### Applied Data Science Capstone by IBM/Coursera"
   ]
  },
  {
   "cell_type": "markdown",
   "metadata": {},
   "source": [
    "## Introduction: Business Problem <a name=\"introduction\"></a>"
   ]
  },
  {
   "cell_type": "markdown",
   "metadata": {},
   "source": [
    "In this project we will try to find an optimal location for a new venue. Specifically, this report will be targeted to stakeholders interested in opening an **music venue** in **Madrid**, Spain.\n",
    "\n",
    "Since there are lots of music venues in Madrid, we will try to detect **neighborhoods that are not already crowded with music venues**. A neighborhood crowded with music venues is a neghborhood good for music business, but the competition will be tough. Therefore, we will inform about this kind of neighborhoods too, because maybe the stakeholders decide that the risk is manageable. We would also prefer locations **as close to city center as possible**. The reason for this is that consuming culture, such as going to music venues, is more ordinary in neighborhoods close to the center, so if a neighborhood is close to it, the probabilities of the music venue to success are higher. \n",
    "\n",
    "We will use the K-Means clustering method to find the most promissing neighborhoods based on this criteria. Description of each cluster will then be clearly expressed so that best possible final location can be chosen by stakeholders."
   ]
  },
  {
   "cell_type": "markdown",
   "metadata": {},
   "source": [
    "## Data <a name=\"data\"></a>"
   ]
  },
  {
   "cell_type": "markdown",
   "metadata": {},
   "source": [
    "The data we will need to our project will be the following:\n",
    "- The complete list of **Madrid neighborhoods**. This list can be found in Wikipedia, so we will scrap this information into a dataframe from it.\n",
    "- The **coordinates of each neighborhood**. This information will be achieved with a tool from the geopy library and the list of the neighborhoods.\n",
    "- The **distance from each neighborhood to the center**. We will get the coordinates of the center of Madrid with geopy and then calculate the distance between locations also with a tool from the geopy library. \n",
    "- The **music venues of each neighborhood**. A music venue is any location used for a concert or musical performance. This kind of venues is categorized by Foursquare, so we will use the Foursquare API to get the music venues for each neighborhood, considering that each neighborhood's dimension is a radius of 500m with the center in its coordinates from geopy. After getting the complete list of music venues, we will count the **number of venues that are in each neighborhood**.\n",
    "\n",
    "Now you will see the process of getting all of this information."
   ]
  }
 ],
 "metadata": {
  "kernelspec": {
   "display_name": "Python 3",
   "language": "python",
   "name": "python3"
  },
  "language_info": {
   "codemirror_mode": {
    "name": "ipython",
    "version": 3
   },
   "file_extension": ".py",
   "mimetype": "text/x-python",
   "name": "python",
   "nbconvert_exporter": "python",
   "pygments_lexer": "ipython3",
   "version": "3.8.5"
  }
 },
 "nbformat": 4,
 "nbformat_minor": 4
}
