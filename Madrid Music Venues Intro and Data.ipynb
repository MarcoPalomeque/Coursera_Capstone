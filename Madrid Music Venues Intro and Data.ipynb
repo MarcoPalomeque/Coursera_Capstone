{
 "cells": [
  {
   "cell_type": "markdown",
   "metadata": {},
   "source": [
    "# Capstone Project - Music Venues in Madrid\n",
    "### Applied Data Science Capstone by IBM/Coursera"
   ]
  },
  {
   "cell_type": "markdown",
   "metadata": {},
   "source": [
    "This study is for the Applied Data Science Capstone by IBM/Coursera. We are going to measure which neighborhoods of Madrid are the best candidates for oppening a new Music Venue. For this, we will consider two factors: the distance from the neighborhood to the center of the city and the number of music venues that are already in the neighborhood. We will divide the neighborhoods considering these two factors using the K-means clustering method, and we will consider that the best neighborhoods are the ones that are close to the center and that have the less amount of music venues, so the competition will be softer."
   ]
  },
  {
   "cell_type": "markdown",
   "metadata": {},
   "source": [
    "## Table of contents\n",
    "* [Introduction: Business Problem](#introduction)\n",
    "* [Data](#data)"
   ]
  },
  {
   "cell_type": "markdown",
   "metadata": {},
   "source": [
    "## Introduction: Business Problem <a name=\"introduction\"></a>\n"
   ]
  },
  {
   "cell_type": "markdown",
   "metadata": {},
   "source": [
    "In this project we will try to find an optimal location for a new venue. Specifically, this report will be targeted to stakeholders interested in opening an **music venue** in **Madrid**, Spain. Our goal is to help stakeholder who want to invest in the opening of new music venues to have reliable data to help them decide which neighborhood is better according to their preferences. \n",
    "\n",
    "Since there are lots of music venues in Madrid, we will try to detect **neighborhoods that are not already crowded with music venues**. A neighborhood crowded with music venues is a neghborhood good for music business, but the competition will be tough. Therefore, we will inform about this kind of neighborhoods too, because maybe the stakeholders decide that the risk is manageable but probably they will prefer to aim for a place where they can grow without too much competition. We would also prefer locations **as close to city center as possible**. The reason for this is that consuming culture, such as going to music venues, is more ordinary in neighborhoods close to the center, so if a neighborhood is close to it, the probabilities of the music venue to success are higher. Also, public transport in Madrid is focused in the center, so it is easier to go to places in the center of the city than anywhere else.\n",
    "\n",
    "We will use the K-Means clustering method to find the most promissing neighborhoods based on this criteria. Each cluster will have specific features based in their proximity to the center and the amount of music venues in each neighborhood contained in the cluster. Then, stakeholders will have to decide which kind of neighborhood is better based on their preferences and then look at the list of neighborhoods that share that features they like the most, based in parameters that are not part of the study (like the proximity to important touristic places, if it is easy to park a car or to go to the place in public transport, etc."
   ]
  },
  {
   "cell_type": "markdown",
   "metadata": {},
   "source": [
    "## Data <a name=\"data\"></a>"
   ]
  },
  {
   "cell_type": "markdown",
   "metadata": {},
   "source": [
    "The data we will need to our project will be the following:\n",
    "- The complete list of **Madrid neighborhoods**. This list can be found in Wikipedia, so we will scrap this information into a dataframe from it. We will find that there are 127 neighborhoods in Madrid.\n",
    "- The **coordinates of each neighborhood**. This information will be achieved with a tool from the geopy library and the list of the neighborhoods. The geopy tool (geocoder) gives us the coordinates of a specific place (Neighborhood, Madrid, Spain), so we will write a loop to get the coordinates of each neighborhood\n",
    "- The **distance from each neighborhood to the center**. We will get the coordinates of the center of Madrid with geocoder and then calculate the distance between locations also with a tool from the geopy library (geodesic). \n",
    "- The **music venues of each neighborhood**. A music venue is any location used for a concert or musical performance. This kind of venues is categorized by Foursquare, so we will use the Foursquare API to get the music venues for each neighborhood, considering that each neighborhood's dimension is a radius of 500m with the center in its coordinates from geocoder. Foursquare gives us the coordinates of each venue, their category, their name and othe After getting the complete list of music venues, we will count the **number of venues that are in each neighborhood**.\n"
   ]
  },
  {
   "cell_type": "markdown",
   "metadata": {},
   "source": []
  }
 ],
 "metadata": {
  "kernelspec": {
   "display_name": "Python 3",
   "language": "python",
   "name": "python3"
  },
  "language_info": {
   "codemirror_mode": {
    "name": "ipython",
    "version": 3
   },
   "file_extension": ".py",
   "mimetype": "text/x-python",
   "name": "python",
   "nbconvert_exporter": "python",
   "pygments_lexer": "ipython3",
   "version": "3.8.5"
  }
 },
 "nbformat": 4,
 "nbformat_minor": 4
}
